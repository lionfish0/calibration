{
 "cells": [
  {
   "cell_type": "code",
   "execution_count": null,
   "metadata": {},
   "outputs": [],
   "source": [
    "import os\n",
    "pathtovideos = '/home/mike/Documents/Research/bee_identification_project/videos'\n",
    "import requests\n",
    "import json\n",
    "import time\n",
    "#for vid,data in df.iterrows():\n",
    "#    print(vid)\n",
    "#    os.system('ffmpeg -i %s -r 0.25 %s-image-%%3d.jpeg' % (pathtovideos+'/'+vid,'imagesfromvideos/'+vid[:-4]))        \n",
    "\n",
    "\n",
    "### THEN NEED TO RUN MARCIN'S LOCALISER TOOL...\n",
    "#e.g. download yolov5_scripts\n",
    "python3 detect_scripts.py --source /home/mike/Documents/Research/SheffieldMLpublications/publications/airvi/jupyter/label_cal/imagesfromvideos --weights models/bumblebee_weigths.pt --conf 0.4 --crop\n",
    "\n",
    "### THEN CALL JENNIFER'S CNN...\n",
    "from glob import glob\n",
    "allscores = []\n",
    "labels = []\n",
    "for vid,data in df.iterrows():\n",
    "    print(vid)\n",
    "    scores = {}\n",
    "    for fn in glob('/home/mike/Documents/Research/yolov5_scripts/inference/output/cropped/'+vid[:-4]+'*_CROPPED.jpg'):\n",
    "        try:\n",
    "            response = requests.post('http://52.16.188.225/api/image', files={'image1': ('bee.jpeg', open(fn,'rb'))})\n",
    "            for sp,p in json.loads(response.text)['pred']:\n",
    "                if sp not in scores: scores[sp]=[]\n",
    "                scores[sp].append(p)\n",
    "        except FileNotFoundError:\n",
    "            break\n",
    "        time.sleep(1)\n",
    "    avgscores = {}\n",
    "    print(\"scores\")\n",
    "    print(scores)\n",
    "    for sp, l in scores.items():\n",
    "        avgscores[sp] = np.prod(l) #product of probabilities\n",
    "        \n",
    "    wb = 0\n",
    "    if 'Bombus lucorum' in avgscores: \n",
    "        wb += avgscores['Bombus lucorum']\n",
    "        avgscores.pop('Bombus lucorum')\n",
    "    if 'Bombus terrestris' in avgscores: \n",
    "        wb += avgscores['Bombus terrestris']\n",
    "        avgscores.pop('Bombus terrestris')\n",
    "    \n",
    "    avgscores['whitebuff'] = wb\n",
    "    a = np.array(list(avgscores.items()))\n",
    "    labels.append(a[np.argsort(-a[:,1].astype(float))][0][0])\n",
    "    print(\"labels\")\n",
    "    print(labels)\n",
    "    allscores.append(scores)\n",
    "    #print(\"allscores\")\n",
    "    #print(allscores)"
   ]
  }
 ],
 "metadata": {
  "kernelspec": {
   "display_name": "Python 3",
   "language": "python",
   "name": "python3"
  },
  "language_info": {
   "codemirror_mode": {
    "name": "ipython",
    "version": 3
   },
   "file_extension": ".py",
   "mimetype": "text/x-python",
   "name": "python",
   "nbconvert_exporter": "python",
   "pygments_lexer": "ipython3",
   "version": "3.8.3"
  }
 },
 "nbformat": 4,
 "nbformat_minor": 4
}
