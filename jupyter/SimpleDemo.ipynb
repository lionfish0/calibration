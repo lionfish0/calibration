{
 "cells": [
  {
   "cell_type": "code",
   "execution_count": 1,
   "metadata": {},
   "outputs": [],
   "source": [
    "import numpy as np\n",
    "import matplotlib.pyplot as plt\n",
    "%matplotlib inline\n",
    "from calibration.errormetrics import MAE, MSE, NMSE, NLPD, compute_test_data\n",
    "from calibration.synthetic import generate_synthetic_dataset, getstaticsensortranform, getmobilesensortranform\n",
    "from calibration.simple import compute_simple_calibration, compute_simple_predictions\n"
   ]
  },
  {
   "cell_type": "code",
   "execution_count": 9,
   "metadata": {},
   "outputs": [
    {
     "data": {
      "text/plain": [
       "array([ nan,  nan,  nan,  nan,  nan,  nan,  nan,  nan,  nan,  nan,  nan,\n",
       "        nan,  nan,  nan,  nan,  nan,  nan,  nan,  nan,  nan,  nan,  nan,\n",
       "        nan,  nan,  nan,  nan,  nan,  nan,  nan,  nan,  nan,  nan,  nan,\n",
       "        nan,  nan,  nan,  nan,  nan,  nan,  nan,  nan, 14.6, 13.9, 13.2,\n",
       "       12.4, 11.6, 10.8, 10. ,  9.1,  8.2,  7.2,  6.3,  5.3,  4.4,  3.4,\n",
       "        2.4,  1.4,  0.4, -0.6, -1.6, -2.6, -3.6, -4.5, -5.5, -6.5, -7.4,\n",
       "       -8.3])"
      ]
     },
     "execution_count": 9,
     "metadata": {},
     "output_type": "execute_result"
    }
   ],
   "source": [
    "#we can consider a simple network of 4 sensors.\n",
    "#colocations between 0 and 1 happened from day 1-20\n",
    "#then between 1 and 2 between 5-25,\n",
    "#then between 2 and 3 on days 15-40.\n",
    "X = np.c_[np.arange(1,21)[:,None],np.full(20,0),np.full(20,1)]\n",
    "X = np.r_[X,np.c_[np.arange(5,26)[:,None],np.full(21,1),np.full(21,2)]]\n",
    "X = np.r_[X,np.c_[np.arange(15,41)[:,None],np.full(26,2),np.full(26,3)]]\n",
    "#sensor 0 AND sensor 3 are reference sensors, but we'll only tell the model\n",
    "#about sensor 0:\n",
    "refsensor = np.array([1,0,0,0])\n",
    "\n",
    "#generate some synthetic pollution data\n",
    "np.set_printoptions(precision=1,suppress=True)\n",
    "Y = np.repeat(20*np.cos(X[:,0]/20)[:,None],2,1)\n",
    "Y[X[:,1:]==1]*=2\n",
    "Y[X[:,1:]==2]*=3\n",
    "\n",
    "#in a real scenario we will only know true pollution\n",
    "#data where a reference instrument is. To that end\n",
    "#we'll use instrument 3 (which we know is a reference\n",
    "#instrument but haven't told the model about) as a source\n",
    "#for this trueY:\n",
    "trueY = np.full(len(Y),np.nan)\n",
    "keep = X[:,2]==3\n",
    "trueY[keep]=Y[keep,1]\n",
    "trueY"
   ]
  },
  {
   "cell_type": "code",
   "execution_count": 14,
   "metadata": {},
   "outputs": [],
   "source": [
    "testX, testY, testtrueY = compute_test_data(X,Y,trueY,refsensor)\n",
    "#we just keep those that we have a true value for \n",
    "#AND those that aren't a reference sensor itself\n",
    "#(as this we can get 100% accuracy just by reporting\n",
    "#the same number:\n",
    "keep = (~np.isnan(testtrueY)[:,0]) & (testX[:,1]!=3)\n",
    "testX = testX[keep,:]\n",
    "testY = testY[keep,:]\n",
    "testtrueY = testtrueY[keep,:]"
   ]
  },
  {
   "cell_type": "code",
   "execution_count": 15,
   "metadata": {},
   "outputs": [],
   "source": [
    "delta = 8\n",
    "G,allsp,allcals,allcallists,allpopts,allpcovs,allpoptslists = compute_simple_calibration(X,Y,delta,refsensor,mincolocationsinperiod=1)\n",
    "preds,res2,res = compute_simple_predictions(testX,testY,testtrueY,allcals,delta)"
   ]
  },
  {
   "cell_type": "code",
   "execution_count": 17,
   "metadata": {},
   "outputs": [
    {
     "name": "stdout",
     "output_type": "stream",
     "text": [
      "Corrected:\n",
      "nmse=0.00000 mse= 0.00 mae= 0.00\n",
      "Raw:\n",
      "nmse=4.00000 mse=251.70 mae=13.49\n"
     ]
    }
   ],
   "source": [
    "print(\"Corrected:\")\n",
    "nmse = NMSE(testtrueY[:,0],preds[:,0])\n",
    "mse = MSE(testtrueY[:,0],preds[:,0])\n",
    "mae = MAE(testtrueY[:,0],preds[:,0])\n",
    "print(\"nmse=%5.5f mse=%5.2f mae=%5.2f\" % (nmse,mse,mae))\n",
    "\n",
    "print(\"Raw:\")\n",
    "nmse = NMSE(testtrueY[:,0],testY[:,0])\n",
    "mse = MSE(testtrueY[:,0],testY[:,0])\n",
    "mae = MAE(testtrueY[:,0],testY[:,0])\n",
    "print(\"nmse=%5.5f mse=%5.2f mae=%5.2f\" % (nmse,mse,mae))"
   ]
  }
 ],
 "metadata": {
  "kernelspec": {
   "display_name": "Python 3",
   "language": "python",
   "name": "python3"
  },
  "language_info": {
   "codemirror_mode": {
    "name": "ipython",
    "version": 3
   },
   "file_extension": ".py",
   "mimetype": "text/x-python",
   "name": "python",
   "nbconvert_exporter": "python",
   "pygments_lexer": "ipython3",
   "version": "3.8.3"
  }
 },
 "nbformat": 4,
 "nbformat_minor": 4
}
